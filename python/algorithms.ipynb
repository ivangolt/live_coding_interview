{
 "cells": [
  {
   "cell_type": "markdown",
   "metadata": {},
   "source": [
    "# Два указателя"
   ]
  },
  {
   "cell_type": "markdown",
   "metadata": {},
   "source": [
    "**Метод двух указателей**  — это техника, часто применяемая для оптимизации работы с массивами или строками. Два указателя используются для итерации по массиву (или строке), обычно начиная с разных концов и сходясь посередине либо двигаясь с разных позиций для поиска оптимального решения.\n",
    "\n",
    "Основные шаги решения задач методом двух указателей:\n",
    "1. Выбор начальных позиций указателей:\n",
    "\n",
    "- Обычно один указатель ставят в начало массива, а другой — в конец. Иногда оба указателя могут начинаться с одной точки (например, с нуля).\n",
    "\n",
    "- В зависимости от задачи, указатели могут двигаться навстречу друг другу или в одном направлении.\n",
    "\n",
    "2. Условия для продвижения указателей:\n",
    "\n",
    "- На каждом шаге нужно решить, какой из указателей двигать. Часто это зависит от того, нужно ли уменьшить или увеличить значение для достижения цели.\n",
    "\n",
    "- Правильное управление движением указателей позволяет пропускать ненужные элементы и уменьшать количество операций.\n",
    "\n",
    "3. Остановка алгоритма:\n",
    "\n",
    "- Процесс продолжается, пока указатели не пересекутся или пока не будет найдено искомое значение. В некоторых задачах остановка происходит при выполнении конкретного условия (например, нахождение суммы или индексов).\n",
    "\n",
    "Основные паттерны для двух указателей:\n",
    "\n",
    "1) Схождение с двух концов:\n",
    "\n",
    "Указатели начинают с начала и конца массива/строки и движутся навстречу друг другу. Это часто применяется в задачах на поиск пар с определёнными свойствами (например, суммы).\n",
    "\n",
    "2) Один указатель медленный, другой быстрый:\n",
    "\n",
    "Один указатель продвигается на одну позицию за раз, другой — быстрее (например, на 2 позиции). Этот подход полезен в задачах, связанных с циклами, например, обнаружение цикла в связном списке.\n",
    "\n",
    "3) Ограниченный диапазон:\n",
    "\n",
    "Два указателя могут использоваться для работы с подмассивами или подстроками с изменяющейся длиной. Это полезно в задачах на поиск подстрок или последовательностей в строках/массивах.\n",
    "\n",
    "**!!!Основной плюс метода — его эффективность, так как он позволяет решать задачи за время O(n) вместо O(n²), что особенно важно при работе с большими массивами.**\n",
    "\n",
    "\n",
    "**Пример решения задачи  методом двух указателей**:\n",
    "\n",
    "Задача: Найти два числа в отсортированном массиве, которые в сумме дают заданное число.\n",
    "\n",
    "```\n",
    "def two_sum(nums, target):\n",
    "    left, right = 0, len(nums) - 1\n",
    "    \n",
    "    while left < right:\n",
    "        current_sum = nums[left] + nums[right]\n",
    "        \n",
    "        if current_sum == target:\n",
    "            return left, right\n",
    "        elif current_sum < target:\n",
    "            left += 1\n",
    "        else:\n",
    "            right -= 1\n",
    "    \n",
    "    return -1  # Если такая пара не найдена\n",
    "```\n"
   ]
  },
  {
   "cell_type": "markdown",
   "metadata": {},
   "source": [
    "Задача:\n",
    "Нужно найти два числа в отсортированном массиве, сумма которых равна заданному значению."
   ]
  },
  {
   "cell_type": "code",
   "execution_count": 1,
   "metadata": {},
   "outputs": [
    {
     "name": "stdout",
     "output_type": "stream",
     "text": [
      "(1, 12, 0, 5)\n"
     ]
    }
   ],
   "source": [
    "def two_sum(array: list[int], target: int):\n",
    "    \"\"\"Return the indices of the two elements in the array that add up to the target.\"\"\"\n",
    "    left, right = 0, len(array) - 1\n",
    "\n",
    "    while left < right:\n",
    "        current_sum = array[left] + array[right]\n",
    "\n",
    "        if current_sum == target:\n",
    "            return (array[left], array[right], left, right)\n",
    "\n",
    "        elif current_sum < target:\n",
    "            left += 1\n",
    "        else:\n",
    "            right -= 1\n",
    "    return None\n",
    "\n",
    "\n",
    "#  Tests\n",
    "\n",
    "arr = [1, 2, 4, 5, 8, 12, 13]\n",
    "target = 13\n",
    "print(two_sum(arr, target))"
   ]
  },
  {
   "cell_type": "markdown",
   "metadata": {},
   "source": [
    "Даны два отсортированных массива. Слейте их в один отсортированный массив"
   ]
  },
  {
   "cell_type": "code",
   "execution_count": 12,
   "metadata": {},
   "outputs": [],
   "source": [
    "def merge_arrays(array1: list[int], array2: list[int]) -> list[int]:\n",
    "    \"\"\"Merge two sorted arrays into one sorted array.\"\"\"\n",
    "\n",
    "    merged_array = []\n",
    "\n",
    "    i = j = 0\n",
    "\n",
    "    # Проходим по обоим массивам\n",
    "    while i < len(array1) and j < len(array2):\n",
    "        if array1[i] < array2[j]:\n",
    "            merged_array.append(array1[i])\n",
    "            i += 1\n",
    "        else:\n",
    "            merged_array.append(array2[j])\n",
    "            j += 1\n",
    "\n",
    "    # Добавляем оставшиеся элементы из первого массива, если они есть\n",
    "    while i < len(array1):\n",
    "        merged_array.append(array1[i])\n",
    "        i += 1\n",
    "\n",
    "    # Добавляем оставшиеся элементы из второго массива, если они есть\n",
    "    while j < len(array2):\n",
    "        merged_array.append(array1[j])\n",
    "        j += 1\n",
    "\n",
    "    return merged_array"
   ]
  },
  {
   "cell_type": "code",
   "execution_count": 14,
   "metadata": {},
   "outputs": [
    {
     "name": "stdout",
     "output_type": "stream",
     "text": [
      "[1, 1, 2, 2, 2, 3, 4, 6, 7]\n"
     ]
    }
   ],
   "source": [
    "arr1 = [1, 2, 4, 6, 7]\n",
    "arr2 = [1, 2, 2, 3]\n",
    "print(merge_arrays(arr1, arr2))"
   ]
  },
  {
   "cell_type": "markdown",
   "metadata": {},
   "source": [
    "Проверьте, является ли строка палиндромом, игнорируя пробелы и регистр.\n",
    "\n",
    "Примеры: madam, civic, A man a plan a canal Panama"
   ]
  },
  {
   "cell_type": "code",
   "execution_count": 22,
   "metadata": {},
   "outputs": [],
   "source": [
    "def is_palindrome(string: str) -> bool:\n",
    "    string.lower()\n",
    "\n",
    "    left, right = 0, len(string) - 1\n",
    "\n",
    "    while left < right:\n",
    "        if string[left] == \" \":\n",
    "            left += 1\n",
    "            continue\n",
    "\n",
    "        if string[right] == \" \":\n",
    "            right -= 1\n",
    "            continue\n",
    "\n",
    "        if string[left] != string[right]:\n",
    "            return False\n",
    "\n",
    "        left += 1\n",
    "        right -= 1\n",
    "\n",
    "    return True"
   ]
  },
  {
   "cell_type": "code",
   "execution_count": 23,
   "metadata": {},
   "outputs": [
    {
     "name": "stdout",
     "output_type": "stream",
     "text": [
      "True\n"
     ]
    }
   ],
   "source": [
    "s = \"ded\"\n",
    "print(is_palindrome(s))"
   ]
  },
  {
   "cell_type": "markdown",
   "metadata": {},
   "source": [
    "# Бинарный поиск"
   ]
  },
  {
   "cell_type": "markdown",
   "metadata": {},
   "source": [
    "**Метод бинарного поиска** (или двоичный поиск) — это эффективный способ нахождения элемента в отсортированном массиве. Он работает по принципу деления диапазона поиска на две части, что позволяет уменьшать область поиска в два раза на каждом шаге.\n",
    "\n",
    "Основные шаги решения задач методом бинарного поиска:\n",
    "1. **Понять, можно ли применить бинарный поиск:**\n",
    "\n",
    "Массив должен быть отсортирован.\n",
    "Монотонная функция (либо возрастает, либо убывает).\n",
    "Либо задачу можно переформулировать так, чтобы искомое значение можно было найти с использованием бинарного поиска.\n",
    "\n",
    "2. **Определение границ поиска:**\n",
    "\n",
    "Установите две переменные: left (левая граница) и right (правая граница).\n",
    "Обычно left инициализируется как начало массива, то есть 0, а right — как конец массива, т.е. len(arr) - 1.\n",
    "\n",
    "3. **Выбор средней точки:**\n",
    "\n",
    "На каждом шаге вычисляйте индекс средней точки: mid = left + (right - left) // 2.\n",
    "Не используйте (left + right) // 2, так как это может привести к переполнению при больших значениях.\n",
    "\n",
    "4. **Сравнение значения в средней точке с искомым:**\n",
    "\n",
    "Если значение в середине массива равно искомому элементу, возвращаем индекс средней точки.\n",
    "Если элемент в средней точке меньше искомого, перемещаем левую границу (left = mid + 1).\n",
    "Если элемент в средней точке больше искомого, перемещаем правую границу (right = mid - 1).\n",
    "\n",
    "5. **Остановка:**\n",
    "\n",
    "Процесс продолжается, пока left не станет больше right.\n",
    "Если элемент не найден, возвращается специальное значение (например, -1 или None).\n",
    "\n",
    "\n",
    "**Бинарный поиск работает за время O(log n), что делает его эффективным для больших массивов.**\n",
    "\n",
    "\n",
    "\n",
    "```\n",
    "def binary_search(arr, target):\n",
    "    left, right = 0, len(arr) - 1\n",
    "    \n",
    "    while left <= right:\n",
    "        mid = left + (right - left) // 2\n",
    "        \n",
    "        if arr[mid] == target:\n",
    "            return mid\n",
    "        elif arr[mid] < target:\n",
    "            left = mid + 1\n",
    "        else:\n",
    "            right = mid - 1\n",
    "            \n",
    "    return -1  # Если элемент не найден\n",
    "```"
   ]
  },
  {
   "cell_type": "markdown",
   "metadata": {},
   "source": [
    "Дана бинарная строка длины \n",
    "𝑁\n",
    "N, состоящая только из нулей и единиц. Гарантируется, что самый левый её элемент 0, а самый правый — 1. Найдите любое вхождение подстроки “01”."
   ]
  },
  {
   "cell_type": "code",
   "execution_count": 28,
   "metadata": {},
   "outputs": [],
   "source": [
    "def find_substr(binary_string: str):\n",
    "    str_len = len(binary_string)\n",
    "    for i in range(str_len):\n",
    "        if binary_string[i] == \"0\" and binary_string[i + 1] == \"1\":\n",
    "            return i\n",
    "    return -1"
   ]
  },
  {
   "cell_type": "code",
   "execution_count": 29,
   "metadata": {},
   "outputs": [
    {
     "name": "stdout",
     "output_type": "stream",
     "text": [
      "первое вхождение подстроки '01' в бинарной строке начинается с индекса: 3\n"
     ]
    }
   ],
   "source": [
    "bin_str = \"00001010011101\"\n",
    "print(\n",
    "    f\"первое вхождение подстроки '01' в бинарной строке начинается с индекса: {find_substr(bin_str)}\"\n",
    ")"
   ]
  },
  {
   "cell_type": "markdown",
   "metadata": {},
   "source": [
    "Задача: Найти первое и последнее вхождение заданного элемента в отсортированном массиве.\n",
    "\n",
    "Пример:\n",
    "\n",
    "array = [1, 2, 2, 2, 3, 4, 5], target = 2\n",
    "\n",
    "output: [1, 3]"
   ]
  },
  {
   "cell_type": "code",
   "execution_count": 5,
   "metadata": {},
   "outputs": [],
   "source": [
    "def find_first(nums: list[int], target: int) -> int:\n",
    "    left, right = 0, len(nums) - 1\n",
    "    first_occurrence = -1\n",
    "\n",
    "    while left <= right:\n",
    "        mid = left + (right - left) // 2\n",
    "        if nums[mid] == target:\n",
    "            first_occurrence = mid\n",
    "            right = mid - 1  # продолжаем искать в левой половине\n",
    "        elif nums[mid] < target:\n",
    "            left = mid + 1\n",
    "        else:\n",
    "            right = mid - 1\n",
    "\n",
    "    return first_occurrence\n",
    "\n",
    "\n",
    "def find_last(nums: list[int], target: int) -> int:\n",
    "    left, right = 0, len(nums) - 1\n",
    "    last_occurrence = -1\n",
    "\n",
    "    while left <= right:\n",
    "        mid = left + (right - left) // 2\n",
    "        if nums[mid] == target:\n",
    "            last_occurrence = mid\n",
    "            left = mid + 1  # продолжаем искать в правой половине\n",
    "        elif nums[mid] < target:\n",
    "            left = mid + 1\n",
    "        else:\n",
    "            right = mid - 1\n",
    "\n",
    "    return last_occurrence\n",
    "\n",
    "\n",
    "def find_first_and_last(nums: list[int], target: int) -> int:\n",
    "    first = find_first(nums, target)\n",
    "    if first == -1:  # если элемент не найден, то возвращаем [-1, -1]\n",
    "        return [-1, -1]\n",
    "\n",
    "    last = find_last(nums, target)\n",
    "    return [first, last]"
   ]
  },
  {
   "cell_type": "code",
   "execution_count": 6,
   "metadata": {},
   "outputs": [
    {
     "name": "stdout",
     "output_type": "stream",
     "text": [
      "[1, 3]\n"
     ]
    }
   ],
   "source": [
    "nums = [1, 2, 2, 2, 3, 4, 5]\n",
    "target = 2\n",
    "result = find_first_and_last(nums, target)\n",
    "print(result)  # Вывод: [1, 3]"
   ]
  },
  {
   "cell_type": "markdown",
   "metadata": {},
   "source": [
    "Задача: Найти медиану двух отсортированных массивов с использованием бинарного поиска.\n",
    "\n",
    "Пример:\n",
    "\n",
    "nums1 = [1, 3]\\\n",
    "nums2 = [2]\\\n",
    "result = find_median_sorted_arrays(nums1, nums2)\\\n",
    "print(result)  # Вывод: 2.0\n",
    "\n",
    "nums1 = [1, 2]\\\n",
    "nums2 = [3, 4]\\\n",
    "result = find_median_sorted_arrays(nums1, nums2)\\\n",
    "print(result)  # Вывод: 2.5"
   ]
  },
  {
   "cell_type": "code",
   "execution_count": 18,
   "metadata": {},
   "outputs": [
    {
     "name": "stdout",
     "output_type": "stream",
     "text": [
      "2\n",
      "2.5\n"
     ]
    }
   ],
   "source": [
    "def find_median_sorted_arrays(nums1, nums2):\n",
    "    # Гарантируем, что nums1 всегда будет меньше или равен по длине nums2\n",
    "    if len(nums1) > len(nums2):\n",
    "        nums1, nums2 = nums2, nums1\n",
    "\n",
    "    m, n = len(nums1), len(nums2)\n",
    "    total_len = m + n\n",
    "    half_len = total_len // 2\n",
    "\n",
    "    # Бинарный поиск по меньшему массиву\n",
    "    left, right = 0, m\n",
    "    while left <= right:\n",
    "        partition1 = (left + right) // 2\n",
    "        partition2 = half_len - partition1\n",
    "\n",
    "        # Элементы, которые находятся на границах разбиения\n",
    "        max_left1 = float(\"-inf\") if partition1 == 0 else nums1[partition1 - 1]\n",
    "        min_right1 = float(\"inf\") if partition1 == m else nums1[partition1]\n",
    "\n",
    "        max_left2 = float(\"-inf\") if partition2 == 0 else nums2[partition2 - 1]\n",
    "        min_right2 = float(\"inf\") if partition2 == n else nums2[partition2]\n",
    "\n",
    "        # Проверка правильности разбиения\n",
    "        if max_left1 <= min_right2 and max_left2 <= min_right1:\n",
    "            # Если общее количество элементов нечетное\n",
    "            if total_len % 2 == 1:\n",
    "                return min(min_right1, min_right2)\n",
    "            # Если четное, медиана - это среднее значение двух центральных элементов\n",
    "            return (max(max_left1, max_left2) + min(min_right1, min_right2)) / 2\n",
    "        elif max_left1 > min_right2:\n",
    "            # Если max_left1 слишком большой, уменьшаем размер первой половины\n",
    "            right = partition1 - 1\n",
    "        else:\n",
    "            # Если max_left2 слишком большой, увеличиваем размер первой половины\n",
    "            left = partition1 + 1\n",
    "\n",
    "    raise ValueError(\"Input arrays are not sorted\")\n",
    "\n",
    "\n",
    "# Пример использования:\n",
    "nums1 = [1, 3]\n",
    "nums2 = [2]\n",
    "result = find_median_sorted_arrays(nums1, nums2)\n",
    "print(result)\n",
    "\n",
    "nums1 = [1, 2]\n",
    "nums2 = [3, 4]\n",
    "result = find_median_sorted_arrays(nums1, nums2)\n",
    "print(result)"
   ]
  },
  {
   "cell_type": "markdown",
   "metadata": {},
   "source": [
    "Поиск минимума в отсортированном и сдвинутом массиве\\\n",
    "Задача: Дан отсортированный массив, который был сдвинут на несколько позиций вправо. Найдите минимальный элемент массива.\\\n",
    "Пример: Для массива [4, 5, 6, 7, 0, 1, 2], минимальный элемент — это 0."
   ]
  },
  {
   "cell_type": "code",
   "execution_count": 8,
   "metadata": {},
   "outputs": [],
   "source": [
    "def find_min_element(array: list[int]) -> int:\n",
    "    left, right = 0, len(array) - 1\n",
    "    min_element = None\n",
    "\n",
    "    while left < right:\n",
    "        mid = (left + right) // 2\n",
    "\n",
    "        if array[mid] > array[right]:\n",
    "            left = mid + 1\n",
    "\n",
    "        else:\n",
    "            right = mid\n",
    "\n",
    "        return array[left]"
   ]
  },
  {
   "cell_type": "code",
   "execution_count": 7,
   "metadata": {},
   "outputs": [
    {
     "name": "stdout",
     "output_type": "stream",
     "text": [
      "0\n"
     ]
    }
   ],
   "source": [
    "array = [4, 5, 6, 7, 0, 1, 2, 3]\n",
    "print(find_min_element(array=array))"
   ]
  },
  {
   "cell_type": "markdown",
   "metadata": {},
   "source": [
    "Задача: Дан отсортированный массив уникальных целых чисел и целевое значение. Необходимо вернуть индекс целевого значение, если оно найдено. Если нет, необходимо вернуть индекс, где целевое значение должно было бы находиться в данном массиве.\n",
    "\n",
    "Алгоритм должен иметь алгоритмическую сложность O(log n)."
   ]
  },
  {
   "cell_type": "code",
   "execution_count": 2,
   "metadata": {},
   "outputs": [],
   "source": [
    "def find_target(array: list[int], target: int) -> int:\n",
    "    left = 0\n",
    "    right = len(array) - 1\n",
    "    while left <= right:\n",
    "        mid = (left + right) // 2\n",
    "        if array[mid] == target:\n",
    "            return f\"Индекс таргета: {mid}\"\n",
    "        elif array[mid] <= target:\n",
    "            left = mid + 1\n",
    "        else:\n",
    "            right = mid - 1\n",
    "\n",
    "    return -1"
   ]
  },
  {
   "cell_type": "code",
   "execution_count": 3,
   "metadata": {},
   "outputs": [
    {
     "name": "stdout",
     "output_type": "stream",
     "text": [
      "Индекс таргета: 2\n"
     ]
    }
   ],
   "source": [
    "# Tests\n",
    "\n",
    "nums = [1, 3, 5, 6, 8]\n",
    "target = 5\n",
    "print(find_target(array=nums, target=target))"
   ]
  },
  {
   "cell_type": "markdown",
   "metadata": {},
   "source": [
    "# Хеш - функции (словари)"
   ]
  },
  {
   "cell_type": "markdown",
   "metadata": {},
   "source": [
    "Метод хеш-функций (или хеширования) используется для эффективного поиска, хранения и проверки данных. Основные идеи хеширования включают использование специальной функции, которая преобразует данные в уникальное число (хеш). В Python встроенная функция hash() генерирует хеш для объектов.\n",
    "\n",
    "Шпаргалка для решения задач методом хеш-функций в Python:\n",
    "\n",
    "1. Основные принципы хеширования:\n",
    "Хеш-функция преобразует объект (строку, число и т.д.) в целое число.\n",
    "Хеш-таблица — это структура данных, где ключи преобразуются в индексы массива при помощи хеш-функции.\n",
    "Обработка коллизий — в случае, когда два объекта дают одинаковый хеш (например, используя метод цепочек или метод открытой адресации).\n",
    "2. Хеширование в Python:\n",
    "Встроенная функция hash() возвращает хеш-значение объекта.\n",
    "Для неизменяемых типов данных (str, int, tuple) можно использовать hash().\n",
    "\n",
    "Пример:\n",
    "```\n",
    "my_hash = hash(\"example\")  # Хеш строки \"example\"\n",
    "print(my_hash)  # Вывод хеш-значения\n",
    "```\n",
    "\n",
    "3. Использование словарей (хеш-таблиц) в Python:\n",
    "Python предоставляет встроенный тип данных dict, который реализует хеш-таблицы.\n",
    "\n",
    "- Создание и доступ по ключам:\n",
    "\n",
    "```\n",
    "hash_table = {}  # Пустой словарь\n",
    "hash_table[\"ключ\"] = \"значение\"\n",
    "print(hash_table[\"ключ\"])  # Доступ по хеш-ключу\n",
    "```\n",
    "\n",
    "\n",
    "- Добавление и проверка существования ключа:\n",
    "\n",
    "```\n",
    "if \"ключ\" not in hash_table:\n",
    "    hash_table[\"ключ\"] = \"новое значение\"   \n",
    "\n",
    "```\n",
    "\n",
    "- Удаление элемента:\n",
    "\n",
    "```\n",
    "del hash_table[\"ключ\"]\n",
    "```\n",
    "\n",
    "4. Обработка коллизий:\n",
    "\n",
    "Методы обработки коллизий:\n",
    "\n",
    "- Цепочки (Chaining): Каждый индекс массива содержит связанный список элементов с одинаковыми хешами.\n",
    "- Открытая адресация (Open Addressing): Все элементы хранятся в массиве. При коллизии используется следующая свободная ячейка.\n",
    "\n"
   ]
  },
  {
   "cell_type": "markdown",
   "metadata": {},
   "source": []
  },
  {
   "cell_type": "markdown",
   "metadata": {},
   "source": [
    "**Задача: Два числа с заданной суммой**\n",
    "\n",
    "Задача: Дано массив целых чисел nums и целевое число target. Найдите два числа в массиве, которые в сумме дают target, и верните их индексы.\n",
    "Решите эту задачу с использованием хеш-функций\n",
    "\n",
    "Пример:\n",
    "nums = [2, 7, 11, 15]\n",
    "target = 9\n",
    "Вывод: [0, 1] (так как nums[0] + nums[1] == 9)"
   ]
  },
  {
   "cell_type": "code",
   "execution_count": 24,
   "metadata": {},
   "outputs": [],
   "source": [
    "def find_two_sum(array: list[int], target: int) -> list[int]:\n",
    "    hash_map = {}\n",
    "    for i, num in enumerate(array):\n",
    "        diff = target - num\n",
    "        if diff in hash_map:\n",
    "            return [hash_map[diff], i]\n",
    "        hash_map[num] = i\n",
    "    return []\n"
   ]
  },
  {
   "cell_type": "code",
   "execution_count": 25,
   "metadata": {},
   "outputs": [
    {
     "name": "stdout",
     "output_type": "stream",
     "text": [
      "[1, 3]\n"
     ]
    }
   ],
   "source": [
    "print(find_two_sum([2, 7, 11, 15], 22))"
   ]
  },
  {
   "cell_type": "code",
   "execution_count": 26,
   "metadata": {},
   "outputs": [
    {
     "name": "stdout",
     "output_type": "stream",
     "text": [
      "[1, 5]\n"
     ]
    }
   ],
   "source": [
    "print(find_two_sum([7, 2, 5, 3, 15, 21], 23))\n"
   ]
  },
  {
   "cell_type": "markdown",
   "metadata": {},
   "source": [
    "Задача: Дана строка s. Найдите первый символ, который встречается в строке только один раз, и верните его индекс. Если такого символа нет, верните -1.\n",
    "\n",
    "Пример:\n",
    "s = \"leetcode\"\n",
    "Вывод: 0 (символ 'l')"
   ]
  },
  {
   "cell_type": "code",
   "execution_count": 36,
   "metadata": {},
   "outputs": [],
   "source": [
    "def find_first_symbol(string: str) -> str:\n",
    "    count_map = {}\n",
    "\n",
    "    for char in string:\n",
    "        if count_map.get(char, None):\n",
    "            count_map[char] += 1\n",
    "        else:\n",
    "            count_map[char] = 1\n",
    "    print(count_map)\n",
    "\n",
    "    for index, char in enumerate(count_map):\n",
    "        if count_map[char] == 1:\n",
    "            return char\n",
    "    return -1\n"
   ]
  },
  {
   "cell_type": "code",
   "execution_count": 37,
   "metadata": {},
   "outputs": [
    {
     "name": "stdout",
     "output_type": "stream",
     "text": [
      "{'l': 1, 'e': 3, 't': 1, 'c': 1, 'o': 1, 'd': 1}\n",
      "l\n"
     ]
    }
   ],
   "source": [
    "print(find_first_symbol(s))"
   ]
  },
  {
   "cell_type": "code",
   "execution_count": 33,
   "metadata": {},
   "outputs": [
    {
     "name": "stdout",
     "output_type": "stream",
     "text": [
      "0\n"
     ]
    }
   ],
   "source": [
    "s = \"leetcode\"\n",
    "print(find_first_symbol(s))\n"
   ]
  },
  {
   "cell_type": "markdown",
   "metadata": {},
   "source": [
    "Задача: Дано массив целых чисел nums. Проверьте, есть ли в массиве дубликаты. Верните True, если хотя бы одно число встречается более одного раза. Иначе верните False.\n",
    "\n",
    "Пример:\n",
    "\n",
    "nums = [1, 2, 3, 1]\\\n",
    "Вывод: True"
   ]
  },
  {
   "cell_type": "code",
   "execution_count": 61,
   "metadata": {},
   "outputs": [],
   "source": [
    "def find_duplicates(array: list[int]) -> bool:\n",
    "    count_map = {}\n",
    "\n",
    "    for num in array:\n",
    "        if count_map.get(num, None):\n",
    "            count_map[num] += 1\n",
    "        else:\n",
    "            count_map[num] = 1\n",
    "    print(count_map)\n",
    "    for key, value in count_map.items():\n",
    "        print(key, value)\n",
    "        if value > 1:\n",
    "            return True\n",
    "\n",
    "    return False\n"
   ]
  },
  {
   "cell_type": "code",
   "execution_count": 62,
   "metadata": {},
   "outputs": [
    {
     "name": "stdout",
     "output_type": "stream",
     "text": [
      "{1: 1, 2: 1, 3: 1}\n",
      "1 1\n",
      "2 1\n",
      "3 1\n",
      "False\n"
     ]
    }
   ],
   "source": [
    "nums = [1, 2, 3]\n",
    "print(find_duplicates(nums))\n"
   ]
  },
  {
   "cell_type": "code",
   "execution_count": 66,
   "metadata": {},
   "outputs": [
    {
     "name": "stdout",
     "output_type": "stream",
     "text": [
      "True\n"
     ]
    }
   ],
   "source": [
    "def contains_duplicate(nums):\n",
    "    seen = set()\n",
    "    for num in nums:\n",
    "        if num in seen:\n",
    "            return True\n",
    "        seen.add(num)\n",
    "    return False\n",
    "\n",
    "\n",
    "# Пример использования:\n",
    "print(contains_duplicate([1, 2, 3, 1]))  # True\n"
   ]
  },
  {
   "cell_type": "markdown",
   "metadata": {},
   "source": [
    "**Задача: Подсчет количества пар с одинаковыми элементами**\n",
    "\n",
    "Задача: Дано массив целых чисел nums. Найдите количество пар (i, j), где nums[i] == nums[j] и i < j.\n",
    "\n",
    "Пример:\n",
    "\n",
    "nums = [1, 2, 3, 1, 1, 3]\\\n",
    "Вывод: 4"
   ]
  },
  {
   "cell_type": "code",
   "execution_count": 75,
   "metadata": {},
   "outputs": [],
   "source": [
    "def num_identical_pairs(array: list[int]) -> int:\n",
    "    count_map = {}\n",
    "    pairs = 0\n",
    "\n",
    "    for num in array:\n",
    "        if num in count_map:\n",
    "            pairs += count_map[num]\n",
    "        count_map[num] = count_map.get(num, 0) + 1\n",
    "    print(count_map)\n",
    "    return pairs\n"
   ]
  },
  {
   "cell_type": "code",
   "execution_count": 76,
   "metadata": {},
   "outputs": [
    {
     "name": "stdout",
     "output_type": "stream",
     "text": [
      "{1: 3, 2: 1, 3: 2}\n",
      "4\n"
     ]
    }
   ],
   "source": [
    "# Пример использования:\n",
    "print(num_identical_pairs([1, 2, 3, 1, 1, 3]))  # 4\n"
   ]
  },
  {
   "cell_type": "markdown",
   "metadata": {},
   "source": [
    "Самая длинная последовательность уникальных символов\\\n",
    "Задача: Дана строка s. Найдите длину самой длинной подстроки, которая состоит только из уникальных символов.\n",
    "Пример:\n",
    "\n",
    "s = \"abcabcbb\"\\\n",
    "Вывод: 3 (подстрока \"abc\")"
   ]
  },
  {
   "cell_type": "code",
   "execution_count": 80,
   "metadata": {},
   "outputs": [],
   "source": [
    "def find_uniq_substr(string: str) -> str:\n",
    "    count_map = {}\n",
    "    max_lenght = 0\n",
    "    left = 0\n",
    "\n",
    "    for right, char in enumerate(string):\n",
    "        if char in count_map and count_map[char] >= left:\n",
    "            left = count_map[char] + 1\n",
    "        count_map[char] = right\n",
    "        max_lenght = max(max_lenght, right - left + 1)\n",
    "\n",
    "    return max_lenght\n"
   ]
  },
  {
   "cell_type": "code",
   "execution_count": 81,
   "metadata": {},
   "outputs": [
    {
     "name": "stdout",
     "output_type": "stream",
     "text": [
      "3\n"
     ]
    }
   ],
   "source": [
    "s = \"abcabcbb\"\n",
    "print(find_uniq_substr(s))\n"
   ]
  },
  {
   "cell_type": "markdown",
   "metadata": {},
   "source": [
    "Решим эту же задачу с помощью множеств в python"
   ]
  },
  {
   "cell_type": "code",
   "execution_count": 85,
   "metadata": {},
   "outputs": [],
   "source": [
    "def lenght_of_longesr_substring(string: str) -> int:\n",
    "    char_set = set()\n",
    "    left = 0  # левая граница окна\n",
    "    max_len = 0  # максимальная длина подстроки\n",
    "\n",
    "    # проходим по каждому символу в строке\n",
    "    for right in range(len(string)):\n",
    "        while string[right] in char_set:\n",
    "            char_set.remove(string[right])\n",
    "            left += 1\n",
    "\n",
    "        char_set.add(string[right])\n",
    "        current_window_size = right - left + 1\n",
    "        max_len = max(max_len, current_window_size)\n",
    "\n",
    "    return max_len\n"
   ]
  },
  {
   "cell_type": "code",
   "execution_count": 86,
   "metadata": {},
   "outputs": [
    {
     "name": "stdout",
     "output_type": "stream",
     "text": [
      "3\n"
     ]
    }
   ],
   "source": [
    "s = \"abcabcbb\"\n",
    "print(lenght_of_longesr_substring(s))\n"
   ]
  },
  {
   "cell_type": "code",
   "execution_count": null,
   "metadata": {},
   "outputs": [],
   "source": []
  }
 ],
 "metadata": {
  "kernelspec": {
   "display_name": "Python 3 (ipykernel)",
   "language": "python",
   "name": "python3"
  },
  "language_info": {
   "codemirror_mode": {
    "name": "ipython",
    "version": 3
   },
   "file_extension": ".py",
   "mimetype": "text/x-python",
   "name": "python",
   "nbconvert_exporter": "python",
   "pygments_lexer": "ipython3",
   "version": "3.11.8"
  }
 },
 "nbformat": 4,
 "nbformat_minor": 4
}
