{
 "cells": [
  {
   "cell_type": "markdown",
   "metadata": {},
   "source": [
    "# Два указателя"
   ]
  },
  {
   "cell_type": "markdown",
   "metadata": {},
   "source": [
    "Нужно найти два числа в отсортированном массиве, сумма которых равна заданному значению."
   ]
  },
  {
   "cell_type": "code",
   "execution_count": 1,
   "metadata": {},
   "outputs": [
    {
     "name": "stdout",
     "output_type": "stream",
     "text": [
      "(1, 12, 0, 5)\n"
     ]
    }
   ],
   "source": [
    "def two_sum(array: list[int], target: int):\n",
    "    \"\"\"Return the indices of the two elements in the array that add up to the target.\"\"\"\n",
    "    left, right = 0, len(array) - 1\n",
    "\n",
    "    while left < right:\n",
    "        current_sum = array[left] + array[right]\n",
    "\n",
    "        if current_sum == target:\n",
    "            return (array[left], array[right], left, right)\n",
    "\n",
    "        elif current_sum < target:\n",
    "            left += 1\n",
    "        else:\n",
    "            right -= 1\n",
    "    return None\n",
    "\n",
    "\n",
    "#  Tests\n",
    "\n",
    "arr = [1, 2, 4, 5, 8, 12, 13]\n",
    "target = 13\n",
    "print(two_sum(arr, target))"
   ]
  },
  {
   "cell_type": "markdown",
   "metadata": {},
   "source": [
    "Даны два отсортированных массива. Слейте их в один отсортированный массив"
   ]
  },
  {
   "cell_type": "code",
   "execution_count": 12,
   "metadata": {},
   "outputs": [],
   "source": [
    "def merge_arrays(array1: list[int], array2: list[int]) -> list[int]:\n",
    "    \"\"\"Merge two sorted arrays into one sorted array.\"\"\"\n",
    "\n",
    "    merged_array = []\n",
    "\n",
    "    i = j = 0\n",
    "\n",
    "    # Проходим по обоим массивам\n",
    "    while i < len(array1) and j < len(array2):\n",
    "        if array1[i] < array2[j]:\n",
    "            merged_array.append(array1[i])\n",
    "            i += 1\n",
    "        else:\n",
    "            merged_array.append(array2[j])\n",
    "            j += 1\n",
    "\n",
    "    # Добавляем оставшиеся элементы из первого массива, если они есть\n",
    "    while i < len(array1):\n",
    "        merged_array.append(array1[i])\n",
    "        i += 1\n",
    "\n",
    "    # Добавляем оставшиеся элементы из второго массива, если они есть\n",
    "    while j < len(array2):\n",
    "        merged_array.append(array1[j])\n",
    "        j += 1\n",
    "\n",
    "    return merged_array"
   ]
  },
  {
   "cell_type": "code",
   "execution_count": 14,
   "metadata": {},
   "outputs": [
    {
     "name": "stdout",
     "output_type": "stream",
     "text": [
      "[1, 1, 2, 2, 2, 3, 4, 6, 7]\n"
     ]
    }
   ],
   "source": [
    "arr1 = [1, 2, 4, 6, 7]\n",
    "arr2 = [1, 2, 2, 3]\n",
    "print(merge_arrays(arr1, arr2))"
   ]
  },
  {
   "cell_type": "code",
   "execution_count": null,
   "metadata": {},
   "outputs": [],
   "source": []
  },
  {
   "cell_type": "markdown",
   "metadata": {},
   "source": [
    "Проверьте, является ли строка палиндромом, игнорируя пробелы и регистр.\n",
    "\n",
    "Примеры: madam, civic, A man a plan a canal Panama"
   ]
  },
  {
   "cell_type": "code",
   "execution_count": 22,
   "metadata": {},
   "outputs": [],
   "source": [
    "def is_palindrome(string: str) -> bool:\n",
    "    string.lower()\n",
    "\n",
    "    left, right = 0, len(string) - 1\n",
    "\n",
    "    while left < right:\n",
    "        if string[left] == \" \":\n",
    "            left += 1\n",
    "            continue\n",
    "\n",
    "        if string[right] == \" \":\n",
    "            right -= 1\n",
    "            continue\n",
    "\n",
    "        if string[left] != string[right]:\n",
    "            return False\n",
    "\n",
    "        left += 1\n",
    "        right -= 1\n",
    "\n",
    "    return True"
   ]
  },
  {
   "cell_type": "code",
   "execution_count": 23,
   "metadata": {},
   "outputs": [
    {
     "name": "stdout",
     "output_type": "stream",
     "text": [
      "True\n"
     ]
    }
   ],
   "source": [
    "s = \"ded\"\n",
    "print(is_palindrome(s))"
   ]
  },
  {
   "cell_type": "code",
   "execution_count": null,
   "metadata": {},
   "outputs": [],
   "source": []
  },
  {
   "cell_type": "markdown",
   "metadata": {},
   "source": [
    "# Бинарный поиск"
   ]
  },
  {
   "cell_type": "markdown",
   "metadata": {},
   "source": [
    "Дана бинарная строка длины \n",
    "𝑁\n",
    "N, состоящая только из нулей и единиц. Гарантируется, что самый левый её элемент 0, а самый правый — 1. Найдите любое вхождение подстроки “01”."
   ]
  },
  {
   "cell_type": "code",
   "execution_count": 28,
   "metadata": {},
   "outputs": [],
   "source": [
    "def find_substr(binary_string: str):\n",
    "    str_len = len(binary_string)\n",
    "    for i in range(str_len):\n",
    "        if binary_string[i] == \"0\" and binary_string[i + 1] == \"1\":\n",
    "            return i\n",
    "    return -1"
   ]
  },
  {
   "cell_type": "code",
   "execution_count": 29,
   "metadata": {},
   "outputs": [
    {
     "name": "stdout",
     "output_type": "stream",
     "text": [
      "первое вхождение подстроки '01' в бинарной строке начинается с индекса: 3\n"
     ]
    }
   ],
   "source": [
    "bin_str = \"00001010011101\"\n",
    "print(\n",
    "    f\"первое вхождение подстроки '01' в бинарной строке начинается с индекса: {find_substr(bin_str)}\"\n",
    ")"
   ]
  },
  {
   "cell_type": "markdown",
   "metadata": {},
   "source": [
    "Задача: Найти первое и последнее вхождение заданного элемента в отсортированном массиве."
   ]
  },
  {
   "cell_type": "code",
   "execution_count": null,
   "metadata": {},
   "outputs": [],
   "source": []
  },
  {
   "cell_type": "code",
   "execution_count": null,
   "metadata": {},
   "outputs": [],
   "source": []
  },
  {
   "cell_type": "code",
   "execution_count": null,
   "metadata": {},
   "outputs": [],
   "source": []
  },
  {
   "cell_type": "code",
   "execution_count": null,
   "metadata": {},
   "outputs": [],
   "source": []
  },
  {
   "cell_type": "code",
   "execution_count": null,
   "metadata": {},
   "outputs": [],
   "source": []
  }
 ],
 "metadata": {
  "kernelspec": {
   "display_name": "Python 3 (ipykernel)",
   "language": "python",
   "name": "python3"
  },
  "language_info": {
   "codemirror_mode": {
    "name": "ipython",
    "version": 3
   },
   "file_extension": ".py",
   "mimetype": "text/x-python",
   "name": "python",
   "nbconvert_exporter": "python",
   "pygments_lexer": "ipython3",
   "version": "3.11.8"
  }
 },
 "nbformat": 4,
 "nbformat_minor": 4
}
