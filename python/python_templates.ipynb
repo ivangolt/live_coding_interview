{
 "cells": [
  {
   "cell_type": "markdown",
   "metadata": {},
   "source": [
    "# python templates"
   ]
  },
  {
   "cell_type": "markdown",
   "metadata": {},
   "source": [
    "## декоратор"
   ]
  },
  {
   "cell_type": "code",
   "execution_count": 5,
   "metadata": {},
   "outputs": [
    {
     "name": "stdout",
     "output_type": "stream",
     "text": [
      "Время выполнения функции: 1.1694438457489014\n",
      "49999995000000\n"
     ]
    }
   ],
   "source": [
    "import time\n",
    "\n",
    "\n",
    "def time_decorator(func):\n",
    "    def wrapper(*args, **kwargs):\n",
    "        start_time = time.time()\n",
    "        result = func(*args, **kwargs)\n",
    "        end_time = time.time()\n",
    "        exucution_time = end_time - start_time\n",
    "        print(f\"Время выполнения функции: {exucution_time}\")\n",
    "        return result\n",
    "\n",
    "    return wrapper\n",
    "\n",
    "\n",
    "@time_decorator\n",
    "def example_function(n):\n",
    "    total = 0\n",
    "    empty_list = []\n",
    "    for i in range(n):\n",
    "        total += i\n",
    "        empty_list.append(i)\n",
    "    return sum(empty_list)\n",
    "\n",
    "\n",
    "result = example_function(10000000)\n",
    "print(result)\n"
   ]
  },
  {
   "cell_type": "code",
   "execution_count": 8,
   "metadata": {},
   "outputs": [
    {
     "name": "stdout",
     "output_type": "stream",
     "text": [
      "Вызывается функция: wrapper\n",
      "Время выполнения функции: 1.4483506679534912\n",
      "Функция wrapper завершила свою работу\n",
      "49999995000000\n"
     ]
    }
   ],
   "source": [
    "def logger(func):\n",
    "    def wrapper(*args, **kwargs):\n",
    "        print(f\"Вызывается функция: {func.__name__}\")\n",
    "        result = func(*args, **kwargs)\n",
    "        print(f\"Функция {func.__name__} завершила свою работу\")\n",
    "        return result\n",
    "\n",
    "    return wrapper\n",
    "\n",
    "\n",
    "@logger\n",
    "@time_decorator\n",
    "def example_function(n):\n",
    "    total = 0\n",
    "    empty_list = []\n",
    "    for i in range(n):\n",
    "        total += i\n",
    "        empty_list.append(i)\n",
    "    return sum(empty_list)\n",
    "\n",
    "\n",
    "result = example_function(10000000)\n",
    "print(result)\n"
   ]
  },
  {
   "cell_type": "code",
   "execution_count": null,
   "metadata": {},
   "outputs": [],
   "source": []
  }
 ],
 "metadata": {
  "kernelspec": {
   "display_name": "venv",
   "language": "python",
   "name": "python3"
  },
  "language_info": {
   "codemirror_mode": {
    "name": "ipython",
    "version": 3
   },
   "file_extension": ".py",
   "mimetype": "text/x-python",
   "name": "python",
   "nbconvert_exporter": "python",
   "pygments_lexer": "ipython3",
   "version": "3.11.8"
  }
 },
 "nbformat": 4,
 "nbformat_minor": 2
}
