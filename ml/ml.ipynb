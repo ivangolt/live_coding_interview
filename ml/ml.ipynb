{
 "cells": [
  {
   "cell_type": "markdown",
   "metadata": {},
   "source": [
    "# ML live coding tasks"
   ]
  },
  {
   "cell_type": "markdown",
   "metadata": {},
   "source": [
    "# Linear Regression"
   ]
  },
  {
   "attachments": {
    "image-2.png": {
     "image/png": "[encoded data removed]"
    },
    "image.png": {
     "image/png": "[encoded data removed]"
    }
   },
   "cell_type": "markdown",
   "metadata": {},
   "source": [
    "1. Напишите реализацию линейной регрессии с нуля.\\\n",
    "![image.png](attachment:image.png)\\\n",
    "![image-2.png](attachment:image-2.png)"
   ]
  },
  {
   "cell_type": "code",
   "execution_count": 6,
   "metadata": {},
   "outputs": [],
   "source": [
    "import numpy as np\n",
    "\n",
    "\n",
    "class LinearRegression:\n",
    "    def __init__(\n",
    "        self,\n",
    "        learning_rate: float = 0.01,\n",
    "        n_iters: int = 1000,\n",
    "        l1: float = 0.0,\n",
    "        l2: float = 0.0,\n",
    "    ):\n",
    "        \"\"\"\n",
    "        :param learning_rate: Скорость обучения\n",
    "        :param n_iters: Количество итераций для градиентного спуска\n",
    "        :param l1: Коэффициент L1 регуляризации (по умолчанию 0)\n",
    "        :param l2: Коэффициент L2 регуляризации (по умолчанию 0)\n",
    "        \"\"\"\n",
    "        self.lr = learning_rate\n",
    "        self.n_iters = n_iters\n",
    "        self.weights = None\n",
    "        self.bias = None\n",
    "        self.l1 = l1\n",
    "        self.l2 = l2\n",
    "\n",
    "    def fit(self, X: np.ndarray, y: np.ndarray) -> None:\n",
    "        n_samples, n_features = X.shape\n",
    "        self.weights = np.zeros(n_features)\n",
    "        self.bias = 0\n",
    "\n",
    "        # Градиентный спуск\n",
    "        for _ in range(self.n_iters):\n",
    "            y_pred = np.dot(X, self.weights) + self.bias\n",
    "\n",
    "            dw = (1 / n_samples) * np.dot(X.T, (y_pred - y))\n",
    "            db = (1 / n_samples) * np.sum(y_pred - y)\n",
    "\n",
    "            # Регуляризация\n",
    "            if self.l1 > 0:\n",
    "                dw += self.l1 * np.sign(self.weights)\n",
    "\n",
    "            if self.l2 > 0:\n",
    "                dw += self.l2 * self.weights\n",
    "\n",
    "            # Обновление параметров\n",
    "            self.weights -= self.lr * dw\n",
    "            self.bias -= self.lr * db\n",
    "\n",
    "    def predict(self, X: np.ndarray) -> np.ndarray:\n",
    "        return np.dot(X, self.weights) + self.bias\n"
   ]
  },
  {
   "cell_type": "code",
   "execution_count": 9,
   "metadata": {},
   "outputs": [
    {
     "name": "stdout",
     "output_type": "stream",
     "text": [
      "Predictions: [1.03425405 2.02113149 3.00800893 3.99488637 4.9817638 ]\n"
     ]
    }
   ],
   "source": [
    "X = np.array([[1], [2], [3], [4], [5]])\n",
    "y = np.array([1, 2, 3, 4, 5])\n",
    "\n",
    "# Создание модели линейной регрессии\n",
    "regressor = LinearRegression(learning_rate=0.01, n_iters=1000)\n",
    "regressor.fit(X, y)\n",
    "\n",
    "# Предсказания\n",
    "predictions = regressor.predict(X)\n",
    "print(\"Predictions:\", predictions)\n"
   ]
  },
  {
   "cell_type": "markdown",
   "metadata": {},
   "source": [
    "## Logistic Regression"
   ]
  },
  {
   "cell_type": "code",
   "execution_count": 11,
   "metadata": {},
   "outputs": [],
   "source": [
    "class LogisticRegression:\n",
    "    def __init__(self, n_iters: int = 1000, learning_rate: float = 0.01):\n",
    "        self.lr = learning_rate\n",
    "        self.n_iters = n_iters\n",
    "        self.weights = None\n",
    "        self.bias = None\n",
    "\n",
    "    def sigmoid(self, z: np.ndarray) -> np.ndarray:\n",
    "        \"\"\"\n",
    "        Вычисление сигмоидной функции.\n",
    "        :param z: Линейная комбинация входных данных\n",
    "        :return: Значение сигмоидной функции\n",
    "        \"\"\"\n",
    "        return 1 / (1 + np.exp(-z))\n",
    "\n",
    "    def fit(self, X: np.ndarray, y: np.ndarray) -> None:\n",
    "        n_samples, n_features = X.shape\n",
    "        self.weights = np.zeros(n_features)\n",
    "\n",
    "        self.bias = 0\n",
    "\n",
    "        for _ in range(self.n_iters):\n",
    "            # линейная комбинация входных признаков\n",
    "            linear_model = np.dot(X, self.weights) + self.bias\n",
    "            # применение сигмоидной функции для получения вероятности\n",
    "            y_predicted = self.sigmoid(linear_model)\n",
    "\n",
    "            # вычисление градиентов\n",
    "            dw = (1 / n_samples) * np.dot(X.T, (y_predicted - y))\n",
    "            db = (1 / n_samples) * np.sum(y_predicted - y)\n",
    "\n",
    "            # Обновление весов и смещения\n",
    "\n",
    "            self.weights -= self.lr * dw\n",
    "            self.bias -= self.lr * db\n",
    "\n",
    "    def predict_proba(self, X: np.ndarray) -> np.ndarray:\n",
    "        \"\"\"\n",
    "        Возвращает предсказанные вероятности принадлежности к классу 1.\n",
    "        :param X: Матрица признаков для предсказаний\n",
    "        :return: Вектор предсказанных вероятностей\n",
    "        \"\"\"\n",
    "        linear_model = np.dot(X, self.weights) + self.bias\n",
    "\n",
    "        return self.sigmoid(linear_model)\n",
    "\n",
    "    def predict(self, X: np.ndarray) -> np.ndarray:\n",
    "        \"\"\"\n",
    "        Возвращает предсказанные классы (0 или 1) на основе вероятности.\n",
    "        :param X: Матрица признаков для предсказаний\n",
    "        :return: Вектор предсказанных классов (0 или 1)\n",
    "        \"\"\"\n",
    "        y_predicted_proba = self.predict_proba(X)\n",
    "        y_predicted = [1 if i > 0.5 else 0 for i in y_predicted_proba]\n",
    "        return np.array(y_predicted)\n"
   ]
  },
  {
   "cell_type": "code",
   "execution_count": 12,
   "metadata": {},
   "outputs": [
    {
     "name": "stdout",
     "output_type": "stream",
     "text": [
      "Predicted classes: [0 0 0 0 0]\n",
      "Predicted probabilities: [-0. -0. -0. -0. -0.]\n"
     ]
    },
    {
     "name": "stderr",
     "output_type": "stream",
     "text": [
      "C:\\Users\\Иван\\AppData\\Local\\Temp\\ipykernel_4392\\4231529503.py:9: RuntimeWarning: divide by zero encountered in divide\n",
      "  return 1 / (1 - np.exp(-z))\n"
     ]
    }
   ],
   "source": [
    "# Генерация данных (пример бинарной классификации)\n",
    "X = np.array([[1, 2], [2, 3], [3, 4], [4, 5], [5, 6]])\n",
    "y = np.array([0, 0, 0, 1, 1])\n",
    "\n",
    "# Создание модели логистической регрессии\n",
    "classifier = LogisticRegression(learning_rate=0.1, n_iters=1000)\n",
    "classifier.fit(X, y)\n",
    "\n",
    "# Предсказания\n",
    "predictions = classifier.predict(X)\n",
    "print(\"Predicted classes:\", predictions)\n",
    "probabilities = classifier.predict_proba(X)\n",
    "print(\"Predicted probabilities:\", probabilities)\n"
   ]
  },
  {
   "cell_type": "code",
   "execution_count": null,
   "metadata": {},
   "outputs": [],
   "source": []
  }
 ],
 "metadata": {
  "kernelspec": {
   "display_name": "venv",
   "language": "python",
   "name": "python3"
  },
  "language_info": {
   "codemirror_mode": {
    "name": "ipython",
    "version": 3
   },
   "file_extension": ".py",
   "mimetype": "text/x-python",
   "name": "python",
   "nbconvert_exporter": "python",
   "pygments_lexer": "ipython3",
   "version": "3.11.8"
  }
 },
 "nbformat": 4,
 "nbformat_minor": 2
}
